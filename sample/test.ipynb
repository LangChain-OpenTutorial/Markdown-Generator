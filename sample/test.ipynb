{
 "cells": [
  {
   "cell_type": "code",
   "execution_count": 1,
   "metadata": {},
   "outputs": [
    {
     "data": {
      "text/plain": [
       "['04-Model\\\\06-GoogleGenerativeAI.ipynb',\n",
       " '04-Model\\\\07-Huggingface-Endpoints.ipynb']"
      ]
     },
     "execution_count": 1,
     "metadata": {},
     "output_type": "execute_result"
    }
   ],
   "source": [
    "import os\n",
    "\n",
    "# 04-Model 디렉토리의 ipynb 파일들을 리스트로 담기\n",
    "folder_name = \"04-Model\"\n",
    "file_list = [f for f in os.listdir(folder_name) if f.endswith(\".ipynb\")]\n",
    "file_list = [os.path.join(folder_name, f) for f in file_list]\n",
    "file_list"
   ]
  },
  {
   "cell_type": "code",
   "execution_count": 2,
   "metadata": {},
   "outputs": [
    {
     "name": "stdout",
     "output_type": "stream",
     "text": [
      "<!----Start---->\n",
      "Loading file : 04-Model\\06-GoogleGenerativeAI.ipynb\n",
      "Making image dir : ./docs\\04-Model\\img\n",
      "Saving image : ./docs\\04-Model\\img\\output_17_0.jpg\n",
      "Update path of imags : output_17_0.jpg -> ./img/output_17_0.jpg\n",
      "Saving file : ./docs\\04-Model\\06-GoogleGenerativeAI-(NEW).md\n",
      "<!----End---->\n",
      "<!----Start---->\n",
      "Loading file : 04-Model\\07-Huggingface-Endpoints.ipynb\n",
      "Making image dir : ./docs\\04-Model\\img\n",
      "In Markdown docs, image path : ./assets/06-huggingface-endpoints-dedicated-endpoints-01.png -> ./img/06-huggingface-endpoints-dedicated-endpoints-01.png\n",
      "In Markdown docs, image path : ./assets/06-huggingface-endpoints-dedicated-endpoints-02.png -> ./img/06-huggingface-endpoints-dedicated-endpoints-02.png\n",
      "In Markdown docs, image path : ./assets/06-huggingface-endpoints-dedicated-endpoints-03.png -> ./img/06-huggingface-endpoints-dedicated-endpoints-03.png\n",
      "Saving file : ./docs\\04-Model\\07-Huggingface-Endpoints-(NEW).md\n",
      "<!----End---->\n"
     ]
    }
   ],
   "source": [
    "from markdown_generator.mdconverter_class import MultiNdconverter\n",
    "\n",
    "app = MultiNdconverter(filenames=file_list)\n",
    "app.css_filename = \"../css/styles.css\"\n",
    "app.post_fix = \"-(CEHCK)\" # option\n",
    "app.run()"
   ]
  }
 ],
 "metadata": {
  "kernelspec": {
   "display_name": "py-test",
   "language": "python",
   "name": "python3"
  },
  "language_info": {
   "codemirror_mode": {
    "name": "ipython",
    "version": 3
   },
   "file_extension": ".py",
   "mimetype": "text/x-python",
   "name": "python",
   "nbconvert_exporter": "python",
   "pygments_lexer": "ipython3",
   "version": "3.11.9"
  }
 },
 "nbformat": 4,
 "nbformat_minor": 2
}
